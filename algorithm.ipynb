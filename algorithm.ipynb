{
 "cells": [
  {
   "cell_type": "markdown",
   "metadata": {},
   "source": [
    "# Python\n",
    "\n",
    "## 리스트\n",
    "\n",
    "    파이썬의 기본 리스트는 하부가 배열로 이루어져 있어서, 배열의 단점을 가지고 있어.\n",
    "    리스트의 하부구조를 배열로 사용할 경우에는 공간을 미리 확보해야하고,\n",
    "    원소를 삽입 또는 삭제하려면 원소를 시프트해야하는 단점이 있어.\n",
    "    그것을 해결하기 위해 연결 리스트를 써."
   ]
  },
  {
   "cell_type": "code",
   "execution_count": null,
   "metadata": {},
   "outputs": [],
   "source": []
  },
  {
   "cell_type": "code",
   "execution_count": 14,
   "metadata": {},
   "outputs": [
    {
     "data": {
      "text/plain": [
       "[83, 55, 16, 67, 78, 9, 76, 4, 55, 5]"
      ]
     },
     "execution_count": 14,
     "metadata": {},
     "output_type": "execute_result"
    }
   ],
   "source": [
    "# heapq 힙 큐\n",
    "\n",
    "import heapq\n",
    "from random import choices\n",
    "\n",
    "arr = choices(range(100), k=10)\n",
    "arr"
   ]
  },
  {
   "cell_type": "code",
   "execution_count": 16,
   "metadata": {},
   "outputs": [
    {
     "data": {
      "text/plain": [
       "[4, 5, 9, 55, 78, 16, 76, 67, 55, 83]"
      ]
     },
     "execution_count": 16,
     "metadata": {},
     "output_type": "execute_result"
    }
   ],
   "source": [
    "heapq.heapify(arr)\n",
    "arr"
   ]
  },
  {
   "cell_type": "code",
   "execution_count": 17,
   "metadata": {},
   "outputs": [
    {
     "data": {
      "text/plain": [
       "[4, 5, 9, 55, 78, 16, 76, 67, 55, 83]"
      ]
     },
     "execution_count": 17,
     "metadata": {},
     "output_type": "execute_result"
    }
   ],
   "source": [
    "arr"
   ]
  },
  {
   "cell_type": "code",
   "execution_count": 8,
   "metadata": {},
   "outputs": [],
   "source": [
    "def divisors(N):\n",
    "    divs = []\n",
    "    LIMIT = int(N ** 0.5)\n",
    "    for i in range(2, LIMIT + 1):\n",
    "        if N % i == 0:\n",
    "            divs.append(i)\n",
    "            if i != N // i:\n",
    "                divs.append(N//i)\n",
    "    return divs"
   ]
  },
  {
   "cell_type": "code",
   "execution_count": 12,
   "metadata": {},
   "outputs": [],
   "source": [
    "def prime_factors(N):\n",
    "    p_factors = []\n",
    "    LIMIT = int(N ** 0.5)\n",
    "    for i in range(2, LIMIT + 1):\n",
    "        while N % i == 0:\n",
    "            N /= i\n",
    "            p_factors.append(i)\n",
    "    if N >= 2:\n",
    "        p_factors.append(int(N))\n",
    "    return p_factors"
   ]
  },
  {
   "cell_type": "code",
   "execution_count": 13,
   "metadata": {},
   "outputs": [
    {
     "data": {
      "text/plain": [
       "[[], [2], [3], [2, 2], [5], [2, 3], [7], [2, 2, 2], [3, 3]]"
      ]
     },
     "execution_count": 13,
     "metadata": {},
     "output_type": "execute_result"
    }
   ],
   "source": [
    "[prime_factors(i) for i in range(1,10)]"
   ]
  },
  {
   "cell_type": "code",
   "execution_count": null,
   "metadata": {},
   "outputs": [],
   "source": []
  }
 ],
 "metadata": {
  "kernelspec": {
   "display_name": "ml",
   "language": "python",
   "name": "python3"
  },
  "language_info": {
   "codemirror_mode": {
    "name": "ipython",
    "version": 3
   },
   "file_extension": ".py",
   "mimetype": "text/x-python",
   "name": "python",
   "nbconvert_exporter": "python",
   "pygments_lexer": "ipython3",
   "version": "3.11.4"
  }
 },
 "nbformat": 4,
 "nbformat_minor": 2
}
